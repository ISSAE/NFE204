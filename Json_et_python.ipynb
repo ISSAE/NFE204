{
  "nbformat": 4,
  "nbformat_minor": 0,
  "metadata": {
    "colab": {
      "name": "Json_et_python.ipynb",
      "provenance": [],
      "authorship_tag": "ABX9TyMtAlmg+dL5ln49LPvhFsFQ",
      "include_colab_link": true
    },
    "kernelspec": {
      "name": "python3",
      "display_name": "Python 3"
    }
  },
  "cells": [
    {
      "cell_type": "markdown",
      "metadata": {
        "id": "view-in-github",
        "colab_type": "text"
      },
      "source": [
        "<a href=\"https://colab.research.google.com/github/ISSAE/NFE204/blob/main/Json_et_python.ipynb\" target=\"_parent\"><img src=\"https://colab.research.google.com/assets/colab-badge.svg\" alt=\"Open In Colab\"/></a>"
      ]
    },
    {
      "cell_type": "markdown",
      "metadata": {
        "id": "hhtug8KLoEqu"
      },
      "source": [
        "# Dictonnaire Python / JSON"
      ]
    },
    {
      "cell_type": "code",
      "metadata": {
        "id": "djZUNZEyd6DX"
      },
      "source": [
        "import json"
      ],
      "execution_count": 2,
      "outputs": []
    },
    {
      "cell_type": "markdown",
      "metadata": {
        "id": "Xjwp6CteoYa8"
      },
      "source": [
        "## JSON vers dict Python"
      ]
    },
    {
      "cell_type": "code",
      "metadata": {
        "id": "vGjzceDhdc78"
      },
      "source": [
        "document_json = '{\"c1\":\"v1\" , \"c2\": 2, \"3\":  \"v3\"}'"
      ],
      "execution_count": null,
      "outputs": []
    },
    {
      "cell_type": "code",
      "metadata": {
        "id": "45rnbmJ0fKeU",
        "outputId": "2d9da186-29d6-4ca6-da6b-9d4186a8f5c3",
        "colab": {
          "base_uri": "https://localhost:8080/"
        }
      },
      "source": [
        "type(document_json)"
      ],
      "execution_count": null,
      "outputs": [
        {
          "output_type": "execute_result",
          "data": {
            "text/plain": [
              "str"
            ]
          },
          "metadata": {
            "tags": []
          },
          "execution_count": 14
        }
      ]
    },
    {
      "cell_type": "code",
      "metadata": {
        "id": "NNvMrdJGeCfz"
      },
      "source": [
        "objet_python_depuis_json = json.loads(document_json)"
      ],
      "execution_count": null,
      "outputs": []
    },
    {
      "cell_type": "code",
      "metadata": {
        "id": "WD2YmP76erFV",
        "outputId": "000c1f94-9a22-4d5e-b706-fe18004d9fba",
        "colab": {
          "base_uri": "https://localhost:8080/"
        }
      },
      "source": [
        "type(objet_python_depuis_json)"
      ],
      "execution_count": null,
      "outputs": [
        {
          "output_type": "execute_result",
          "data": {
            "text/plain": [
              "dict"
            ]
          },
          "metadata": {
            "tags": []
          },
          "execution_count": 12
        }
      ]
    },
    {
      "cell_type": "code",
      "metadata": {
        "id": "hMOkqlvxfGPz",
        "outputId": "c94ca273-633e-498f-b7d7-f4d6454e1943",
        "colab": {
          "base_uri": "https://localhost:8080/"
        }
      },
      "source": [
        "objet_python_depuis_json"
      ],
      "execution_count": null,
      "outputs": [
        {
          "output_type": "execute_result",
          "data": {
            "text/plain": [
              "{'3': 'v3', 'c1': 'v1', 'c2': 2}"
            ]
          },
          "metadata": {
            "tags": []
          },
          "execution_count": 13
        }
      ]
    },
    {
      "cell_type": "markdown",
      "metadata": {
        "id": "-Hx1LZiGoigh"
      },
      "source": [
        "## Dict vers chaine JSON"
      ]
    },
    {
      "cell_type": "code",
      "metadata": {
        "id": "LMxW8qOrfOWE"
      },
      "source": [
        "dump_dict = json.dumps(objet_python_depuis_json)"
      ],
      "execution_count": null,
      "outputs": []
    },
    {
      "cell_type": "code",
      "metadata": {
        "id": "q6nZe46hfonW",
        "outputId": "e44fb2f8-edfa-4165-9d8f-f9915641b0b5",
        "colab": {
          "base_uri": "https://localhost:8080/"
        }
      },
      "source": [
        "type(dump_dict)"
      ],
      "execution_count": null,
      "outputs": [
        {
          "output_type": "execute_result",
          "data": {
            "text/plain": [
              "str"
            ]
          },
          "metadata": {
            "tags": []
          },
          "execution_count": 17
        }
      ]
    },
    {
      "cell_type": "code",
      "metadata": {
        "id": "mBuksXiDfrpE",
        "outputId": "8a09b0ef-dbd5-4de9-d683-113076b3a957",
        "colab": {
          "base_uri": "https://localhost:8080/"
        }
      },
      "source": [
        "print(dump_dict)"
      ],
      "execution_count": null,
      "outputs": [
        {
          "output_type": "stream",
          "text": [
            "{\"c1\": \"v1\", \"c2\": 2, \"3\": \"v3\"}\n"
          ],
          "name": "stdout"
        }
      ]
    },
    {
      "cell_type": "code",
      "metadata": {
        "id": "fBP7H7u9gN_s",
        "outputId": "9f0cd1df-b796-4ebe-aca0-47ae192493d2",
        "colab": {
          "base_uri": "https://localhost:8080/"
        }
      },
      "source": [
        "print(json.dumps(objet_python_depuis_json, indent=4))"
      ],
      "execution_count": null,
      "outputs": [
        {
          "output_type": "stream",
          "text": [
            "{\n",
            "    \"c1\": \"v1\",\n",
            "    \"c2\": 2,\n",
            "    \"3\": \"v3\"\n",
            "}\n"
          ],
          "name": "stdout"
        }
      ]
    },
    {
      "cell_type": "code",
      "metadata": {
        "id": "LLj2XWkUovBl"
      },
      "source": [
        "dict_exemple = { 1: 3, \"a\":\"b\", 3:\"v3\", \"4\":4}"
      ],
      "execution_count": null,
      "outputs": []
    },
    {
      "cell_type": "code",
      "metadata": {
        "id": "gYWL2TMIo7cE",
        "outputId": "c1503805-6e55-438c-f439-ab2b04dfa25c",
        "colab": {
          "base_uri": "https://localhost:8080/"
        }
      },
      "source": [
        "print(json.dumps(dict_exemple, indent=2))"
      ],
      "execution_count": null,
      "outputs": [
        {
          "output_type": "stream",
          "text": [
            "{\n",
            "  \"1\": 3,\n",
            "  \"a\": \"b\",\n",
            "  \"3\": \"v3\",\n",
            "  \"4\": 4\n",
            "}\n"
          ],
          "name": "stdout"
        }
      ]
    },
    {
      "cell_type": "code",
      "metadata": {
        "id": "MwdMFpymfznb",
        "outputId": "28c7fab9-36d4-455e-cc0e-42b5fe5958f3",
        "colab": {
          "base_uri": "https://localhost:8080/"
        }
      },
      "source": [
        "print(json.dumps({\"name\": \"John\", \"age\": 30})) #Structure composite\n",
        "print(json.dumps([\"apple\", \"bananas\"])) # Liste\n",
        "print(json.dumps((\"apple\", \"bananas\"))) # tuple\n",
        "print(json.dumps(\"hello\")) # String atomic\n",
        "print(json.dumps(42)) # Int atomic\n",
        "print(json.dumps(31.76))\n",
        "print(json.dumps(True))\n",
        "print(json.dumps(False))\n",
        "print(json.dumps(None))"
      ],
      "execution_count": null,
      "outputs": [
        {
          "output_type": "stream",
          "text": [
            "{\"name\": \"John\", \"age\": 30}\n",
            "[\"apple\", \"bananas\"]\n",
            "[\"apple\", \"bananas\"]\n",
            "\"hello\"\n",
            "42\n",
            "31.76\n",
            "true\n",
            "false\n",
            "null\n"
          ],
          "name": "stdout"
        }
      ]
    },
    {
      "cell_type": "markdown",
      "metadata": {
        "id": "dv8LFUgMhMdc"
      },
      "source": [
        ""
      ]
    },
    {
      "cell_type": "code",
      "metadata": {
        "id": "ArmxqS5gNc-w"
      },
      "source": [
        " document = ''' \n",
        " {\n",
        "    \"title\": \"Taxi driver\",\n",
        "    \"year\": 1976,\n",
        "    \"genre\": \"drama\",\n",
        "    \"summary\": \"Vétéran de la Guerre du Vietnam, Travis Bickle est chauffeur de taxi dans la ville de New York. La violence quotidienne l'affecte peu à peu.\",\n",
        "    \"country\": \"USA\",\n",
        "   \"director\":     {\n",
        "     \"last_name\": \"Scorcese\",\n",
        "     first_name: \"Martin\",\n",
        "     \"birth_date\": \"1962\"\n",
        "    },\n",
        "   \"actors\": [\n",
        "     {\n",
        "     first_name: \"Jodie\",\n",
        "     \"last_name\": \"Foster\",\n",
        "     \"birth_date\": null,\n",
        "     \"role\": \"1962\"\n",
        "     }\n",
        "     {\n",
        "     first_name: \"Robert\",\n",
        "     \"last_name\": \"De Niro\",\n",
        "     \"birth_date\": \"1943\",\n",
        "     \"role\": \"Travis Bickle \",\n",
        "     }\n",
        "  }\n",
        "'''"
      ],
      "execution_count": 10,
      "outputs": []
    },
    {
      "cell_type": "code",
      "metadata": {
        "id": "p_MnZzI1hY4S"
      },
      "source": [
        "essaye_pour_voir = json.loads(document)"
      ],
      "execution_count": null,
      "outputs": []
    }
  ]
}